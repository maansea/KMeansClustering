{
 "cells": [
  {
   "cell_type": "code",
   "execution_count": 2,
   "metadata": {},
   "outputs": [],
   "source": [
    "from sklearn.cluster import KMeans"
   ]
  },
  {
   "cell_type": "code",
   "execution_count": 1,
   "metadata": {},
   "outputs": [],
   "source": [
    "import pandas as pd\n",
    "import numpy as np\n",
    "import matplotlib.pyplot as plt"
   ]
  },
  {
   "cell_type": "code",
   "execution_count": 3,
   "metadata": {},
   "outputs": [],
   "source": [
    "df = pd.read_excel('C:/Users/Mansi Barthwal/Downloads/Mall.xlsx')"
   ]
  },
  {
   "cell_type": "code",
   "execution_count": 4,
   "metadata": {},
   "outputs": [
    {
     "name": "stdout",
     "output_type": "stream",
     "text": [
      "<class 'pandas.core.frame.DataFrame'>\n",
      "RangeIndex: 200 entries, 0 to 199\n",
      "Data columns (total 5 columns):\n",
      " #   Column                  Non-Null Count  Dtype \n",
      "---  ------                  --------------  ----- \n",
      " 0   CustomerID              200 non-null    int64 \n",
      " 1   Gender                  200 non-null    object\n",
      " 2   Age                     200 non-null    int64 \n",
      " 3   Annual Income (k$)      200 non-null    int64 \n",
      " 4   Spending Score (1-100)  200 non-null    int64 \n",
      "dtypes: int64(4), object(1)\n",
      "memory usage: 7.9+ KB\n"
     ]
    }
   ],
   "source": [
    "df.info()"
   ]
  },
  {
   "cell_type": "code",
   "execution_count": 5,
   "metadata": {},
   "outputs": [
    {
     "data": {
      "text/html": [
       "<div>\n",
       "<style scoped>\n",
       "    .dataframe tbody tr th:only-of-type {\n",
       "        vertical-align: middle;\n",
       "    }\n",
       "\n",
       "    .dataframe tbody tr th {\n",
       "        vertical-align: top;\n",
       "    }\n",
       "\n",
       "    .dataframe thead th {\n",
       "        text-align: right;\n",
       "    }\n",
       "</style>\n",
       "<table border=\"1\" class=\"dataframe\">\n",
       "  <thead>\n",
       "    <tr style=\"text-align: right;\">\n",
       "      <th></th>\n",
       "      <th>CustomerID</th>\n",
       "      <th>Age</th>\n",
       "      <th>Annual Income (k$)</th>\n",
       "      <th>Spending Score (1-100)</th>\n",
       "    </tr>\n",
       "  </thead>\n",
       "  <tbody>\n",
       "    <tr>\n",
       "      <th>count</th>\n",
       "      <td>200.000000</td>\n",
       "      <td>200.000000</td>\n",
       "      <td>200.000000</td>\n",
       "      <td>200.000000</td>\n",
       "    </tr>\n",
       "    <tr>\n",
       "      <th>mean</th>\n",
       "      <td>100.500000</td>\n",
       "      <td>38.850000</td>\n",
       "      <td>60.560000</td>\n",
       "      <td>50.200000</td>\n",
       "    </tr>\n",
       "    <tr>\n",
       "      <th>std</th>\n",
       "      <td>57.879185</td>\n",
       "      <td>13.969007</td>\n",
       "      <td>26.264721</td>\n",
       "      <td>25.823522</td>\n",
       "    </tr>\n",
       "    <tr>\n",
       "      <th>min</th>\n",
       "      <td>1.000000</td>\n",
       "      <td>18.000000</td>\n",
       "      <td>15.000000</td>\n",
       "      <td>1.000000</td>\n",
       "    </tr>\n",
       "    <tr>\n",
       "      <th>25%</th>\n",
       "      <td>50.750000</td>\n",
       "      <td>28.750000</td>\n",
       "      <td>41.500000</td>\n",
       "      <td>34.750000</td>\n",
       "    </tr>\n",
       "    <tr>\n",
       "      <th>50%</th>\n",
       "      <td>100.500000</td>\n",
       "      <td>36.000000</td>\n",
       "      <td>61.500000</td>\n",
       "      <td>50.000000</td>\n",
       "    </tr>\n",
       "    <tr>\n",
       "      <th>75%</th>\n",
       "      <td>150.250000</td>\n",
       "      <td>49.000000</td>\n",
       "      <td>78.000000</td>\n",
       "      <td>73.000000</td>\n",
       "    </tr>\n",
       "    <tr>\n",
       "      <th>max</th>\n",
       "      <td>200.000000</td>\n",
       "      <td>70.000000</td>\n",
       "      <td>137.000000</td>\n",
       "      <td>99.000000</td>\n",
       "    </tr>\n",
       "  </tbody>\n",
       "</table>\n",
       "</div>"
      ],
      "text/plain": [
       "       CustomerID         Age  Annual Income (k$)  Spending Score (1-100)\n",
       "count  200.000000  200.000000          200.000000              200.000000\n",
       "mean   100.500000   38.850000           60.560000               50.200000\n",
       "std     57.879185   13.969007           26.264721               25.823522\n",
       "min      1.000000   18.000000           15.000000                1.000000\n",
       "25%     50.750000   28.750000           41.500000               34.750000\n",
       "50%    100.500000   36.000000           61.500000               50.000000\n",
       "75%    150.250000   49.000000           78.000000               73.000000\n",
       "max    200.000000   70.000000          137.000000               99.000000"
      ]
     },
     "execution_count": 5,
     "metadata": {},
     "output_type": "execute_result"
    }
   ],
   "source": [
    "df.describe()"
   ]
  },
  {
   "cell_type": "code",
   "execution_count": 12,
   "metadata": {},
   "outputs": [],
   "source": [
    "df['Gender'].replace(['Male','Female'],[1,0],inplace=True) #Categorising the gender, 1 for Male,0 for Female"
   ]
  },
  {
   "cell_type": "code",
   "execution_count": 13,
   "metadata": {},
   "outputs": [],
   "source": [
    "df.columns = ['CustomerID','Gender','Age','Annual_Income','Spending_Score']"
   ]
  },
  {
   "cell_type": "code",
   "execution_count": 14,
   "metadata": {},
   "outputs": [
    {
     "data": {
      "text/html": [
       "<div>\n",
       "<style scoped>\n",
       "    .dataframe tbody tr th:only-of-type {\n",
       "        vertical-align: middle;\n",
       "    }\n",
       "\n",
       "    .dataframe tbody tr th {\n",
       "        vertical-align: top;\n",
       "    }\n",
       "\n",
       "    .dataframe thead th {\n",
       "        text-align: right;\n",
       "    }\n",
       "</style>\n",
       "<table border=\"1\" class=\"dataframe\">\n",
       "  <thead>\n",
       "    <tr style=\"text-align: right;\">\n",
       "      <th></th>\n",
       "      <th>CustomerID</th>\n",
       "      <th>Gender</th>\n",
       "      <th>Age</th>\n",
       "      <th>Annual_Income</th>\n",
       "      <th>Spending_Score</th>\n",
       "    </tr>\n",
       "  </thead>\n",
       "  <tbody>\n",
       "    <tr>\n",
       "      <th>0</th>\n",
       "      <td>1</td>\n",
       "      <td>1</td>\n",
       "      <td>19</td>\n",
       "      <td>15</td>\n",
       "      <td>39</td>\n",
       "    </tr>\n",
       "    <tr>\n",
       "      <th>1</th>\n",
       "      <td>2</td>\n",
       "      <td>1</td>\n",
       "      <td>21</td>\n",
       "      <td>15</td>\n",
       "      <td>81</td>\n",
       "    </tr>\n",
       "    <tr>\n",
       "      <th>2</th>\n",
       "      <td>3</td>\n",
       "      <td>0</td>\n",
       "      <td>20</td>\n",
       "      <td>16</td>\n",
       "      <td>6</td>\n",
       "    </tr>\n",
       "    <tr>\n",
       "      <th>3</th>\n",
       "      <td>4</td>\n",
       "      <td>0</td>\n",
       "      <td>23</td>\n",
       "      <td>16</td>\n",
       "      <td>77</td>\n",
       "    </tr>\n",
       "    <tr>\n",
       "      <th>4</th>\n",
       "      <td>5</td>\n",
       "      <td>0</td>\n",
       "      <td>31</td>\n",
       "      <td>17</td>\n",
       "      <td>40</td>\n",
       "    </tr>\n",
       "    <tr>\n",
       "      <th>...</th>\n",
       "      <td>...</td>\n",
       "      <td>...</td>\n",
       "      <td>...</td>\n",
       "      <td>...</td>\n",
       "      <td>...</td>\n",
       "    </tr>\n",
       "    <tr>\n",
       "      <th>195</th>\n",
       "      <td>196</td>\n",
       "      <td>0</td>\n",
       "      <td>35</td>\n",
       "      <td>120</td>\n",
       "      <td>79</td>\n",
       "    </tr>\n",
       "    <tr>\n",
       "      <th>196</th>\n",
       "      <td>197</td>\n",
       "      <td>0</td>\n",
       "      <td>45</td>\n",
       "      <td>126</td>\n",
       "      <td>28</td>\n",
       "    </tr>\n",
       "    <tr>\n",
       "      <th>197</th>\n",
       "      <td>198</td>\n",
       "      <td>1</td>\n",
       "      <td>32</td>\n",
       "      <td>126</td>\n",
       "      <td>74</td>\n",
       "    </tr>\n",
       "    <tr>\n",
       "      <th>198</th>\n",
       "      <td>199</td>\n",
       "      <td>1</td>\n",
       "      <td>32</td>\n",
       "      <td>137</td>\n",
       "      <td>18</td>\n",
       "    </tr>\n",
       "    <tr>\n",
       "      <th>199</th>\n",
       "      <td>200</td>\n",
       "      <td>1</td>\n",
       "      <td>30</td>\n",
       "      <td>137</td>\n",
       "      <td>83</td>\n",
       "    </tr>\n",
       "  </tbody>\n",
       "</table>\n",
       "<p>200 rows × 5 columns</p>\n",
       "</div>"
      ],
      "text/plain": [
       "     CustomerID  Gender  Age  Annual_Income  Spending_Score\n",
       "0             1       1   19             15              39\n",
       "1             2       1   21             15              81\n",
       "2             3       0   20             16               6\n",
       "3             4       0   23             16              77\n",
       "4             5       0   31             17              40\n",
       "..          ...     ...  ...            ...             ...\n",
       "195         196       0   35            120              79\n",
       "196         197       0   45            126              28\n",
       "197         198       1   32            126              74\n",
       "198         199       1   32            137              18\n",
       "199         200       1   30            137              83\n",
       "\n",
       "[200 rows x 5 columns]"
      ]
     },
     "execution_count": 14,
     "metadata": {},
     "output_type": "execute_result"
    }
   ],
   "source": [
    "df"
   ]
  },
  {
   "cell_type": "code",
   "execution_count": 15,
   "metadata": {},
   "outputs": [],
   "source": [
    "df['Annual_Income'] = df['Annual_Income'].astype(float)"
   ]
  },
  {
   "cell_type": "code",
   "execution_count": 16,
   "metadata": {},
   "outputs": [],
   "source": [
    "df['Spending_Score'] = df['Spending_Score'].astype(float)"
   ]
  },
  {
   "cell_type": "code",
   "execution_count": 17,
   "metadata": {},
   "outputs": [],
   "source": [
    "col_gender = df.loc[:,['Gender']]"
   ]
  },
  {
   "cell_type": "code",
   "execution_count": 18,
   "metadata": {},
   "outputs": [],
   "source": [
    "col1 = df.loc[:,['Age']]"
   ]
  },
  {
   "cell_type": "code",
   "execution_count": 19,
   "metadata": {},
   "outputs": [],
   "source": [
    "col2 = df.loc[:,['Annual_Income']]"
   ]
  },
  {
   "cell_type": "code",
   "execution_count": 20,
   "metadata": {},
   "outputs": [],
   "source": [
    "col3 = df.loc[:,['Spending_Score']]"
   ]
  },
  {
   "cell_type": "code",
   "execution_count": 21,
   "metadata": {},
   "outputs": [
    {
     "data": {
      "text/html": [
       "<div>\n",
       "<style scoped>\n",
       "    .dataframe tbody tr th:only-of-type {\n",
       "        vertical-align: middle;\n",
       "    }\n",
       "\n",
       "    .dataframe tbody tr th {\n",
       "        vertical-align: top;\n",
       "    }\n",
       "\n",
       "    .dataframe thead th {\n",
       "        text-align: right;\n",
       "    }\n",
       "</style>\n",
       "<table border=\"1\" class=\"dataframe\">\n",
       "  <thead>\n",
       "    <tr style=\"text-align: right;\">\n",
       "      <th></th>\n",
       "      <th>Annual_Income</th>\n",
       "    </tr>\n",
       "  </thead>\n",
       "  <tbody>\n",
       "    <tr>\n",
       "      <th>0</th>\n",
       "      <td>15.0</td>\n",
       "    </tr>\n",
       "    <tr>\n",
       "      <th>1</th>\n",
       "      <td>15.0</td>\n",
       "    </tr>\n",
       "    <tr>\n",
       "      <th>2</th>\n",
       "      <td>16.0</td>\n",
       "    </tr>\n",
       "    <tr>\n",
       "      <th>3</th>\n",
       "      <td>16.0</td>\n",
       "    </tr>\n",
       "    <tr>\n",
       "      <th>4</th>\n",
       "      <td>17.0</td>\n",
       "    </tr>\n",
       "    <tr>\n",
       "      <th>...</th>\n",
       "      <td>...</td>\n",
       "    </tr>\n",
       "    <tr>\n",
       "      <th>195</th>\n",
       "      <td>120.0</td>\n",
       "    </tr>\n",
       "    <tr>\n",
       "      <th>196</th>\n",
       "      <td>126.0</td>\n",
       "    </tr>\n",
       "    <tr>\n",
       "      <th>197</th>\n",
       "      <td>126.0</td>\n",
       "    </tr>\n",
       "    <tr>\n",
       "      <th>198</th>\n",
       "      <td>137.0</td>\n",
       "    </tr>\n",
       "    <tr>\n",
       "      <th>199</th>\n",
       "      <td>137.0</td>\n",
       "    </tr>\n",
       "  </tbody>\n",
       "</table>\n",
       "<p>200 rows × 1 columns</p>\n",
       "</div>"
      ],
      "text/plain": [
       "     Annual_Income\n",
       "0             15.0\n",
       "1             15.0\n",
       "2             16.0\n",
       "3             16.0\n",
       "4             17.0\n",
       "..             ...\n",
       "195          120.0\n",
       "196          126.0\n",
       "197          126.0\n",
       "198          137.0\n",
       "199          137.0\n",
       "\n",
       "[200 rows x 1 columns]"
      ]
     },
     "execution_count": 21,
     "metadata": {},
     "output_type": "execute_result"
    }
   ],
   "source": [
    "col2"
   ]
  },
  {
   "cell_type": "code",
   "execution_count": 22,
   "metadata": {},
   "outputs": [
    {
     "data": {
      "text/plain": [
       "Index(['CustomerID', 'Gender', 'Age', 'Annual_Income', 'Spending_Score'], dtype='object')"
      ]
     },
     "execution_count": 22,
     "metadata": {},
     "output_type": "execute_result"
    }
   ],
   "source": [
    "df.columns"
   ]
  },
  {
   "cell_type": "code",
   "execution_count": 25,
   "metadata": {},
   "outputs": [],
   "source": [
    "Array = np.column_stack((col1,col2,col3,col_gender))"
   ]
  },
  {
   "cell_type": "code",
   "execution_count": 26,
   "metadata": {},
   "outputs": [
    {
     "data": {
      "text/plain": [
       "array([[ 19.,  15.,  39.,   1.],\n",
       "       [ 21.,  15.,  81.,   1.],\n",
       "       [ 20.,  16.,   6.,   0.],\n",
       "       [ 23.,  16.,  77.,   0.],\n",
       "       [ 31.,  17.,  40.,   0.],\n",
       "       [ 22.,  17.,  76.,   0.],\n",
       "       [ 35.,  18.,   6.,   0.],\n",
       "       [ 23.,  18.,  94.,   0.],\n",
       "       [ 64.,  19.,   3.,   1.],\n",
       "       [ 30.,  19.,  72.,   0.],\n",
       "       [ 67.,  19.,  14.,   1.],\n",
       "       [ 35.,  19.,  99.,   0.],\n",
       "       [ 58.,  20.,  15.,   0.],\n",
       "       [ 24.,  20.,  77.,   0.],\n",
       "       [ 37.,  20.,  13.,   1.],\n",
       "       [ 22.,  20.,  79.,   1.],\n",
       "       [ 35.,  21.,  35.,   0.],\n",
       "       [ 20.,  21.,  66.,   1.],\n",
       "       [ 52.,  23.,  29.,   1.],\n",
       "       [ 35.,  23.,  98.,   0.],\n",
       "       [ 35.,  24.,  35.,   1.],\n",
       "       [ 25.,  24.,  73.,   1.],\n",
       "       [ 46.,  25.,   5.,   0.],\n",
       "       [ 31.,  25.,  73.,   1.],\n",
       "       [ 54.,  28.,  14.,   0.],\n",
       "       [ 29.,  28.,  82.,   1.],\n",
       "       [ 45.,  28.,  32.,   0.],\n",
       "       [ 35.,  28.,  61.,   1.],\n",
       "       [ 40.,  29.,  31.,   0.],\n",
       "       [ 23.,  29.,  87.,   0.],\n",
       "       [ 60.,  30.,   4.,   1.],\n",
       "       [ 21.,  30.,  73.,   0.],\n",
       "       [ 53.,  33.,   4.,   1.],\n",
       "       [ 18.,  33.,  92.,   1.],\n",
       "       [ 49.,  33.,  14.,   0.],\n",
       "       [ 21.,  33.,  81.,   0.],\n",
       "       [ 42.,  34.,  17.,   0.],\n",
       "       [ 30.,  34.,  73.,   0.],\n",
       "       [ 36.,  37.,  26.,   0.],\n",
       "       [ 20.,  37.,  75.,   0.],\n",
       "       [ 65.,  38.,  35.,   0.],\n",
       "       [ 24.,  38.,  92.,   1.],\n",
       "       [ 48.,  39.,  36.,   1.],\n",
       "       [ 31.,  39.,  61.,   0.],\n",
       "       [ 49.,  39.,  28.,   0.],\n",
       "       [ 24.,  39.,  65.,   0.],\n",
       "       [ 50.,  40.,  55.,   0.],\n",
       "       [ 27.,  40.,  47.,   0.],\n",
       "       [ 29.,  40.,  42.,   0.],\n",
       "       [ 31.,  40.,  42.,   0.],\n",
       "       [ 49.,  42.,  52.,   0.],\n",
       "       [ 33.,  42.,  60.,   1.],\n",
       "       [ 31.,  43.,  54.,   0.],\n",
       "       [ 59.,  43.,  60.,   1.],\n",
       "       [ 50.,  43.,  45.,   0.],\n",
       "       [ 47.,  43.,  41.,   1.],\n",
       "       [ 51.,  44.,  50.,   0.],\n",
       "       [ 69.,  44.,  46.,   1.],\n",
       "       [ 27.,  46.,  51.,   0.],\n",
       "       [ 53.,  46.,  46.,   1.],\n",
       "       [ 70.,  46.,  56.,   1.],\n",
       "       [ 19.,  46.,  55.,   1.],\n",
       "       [ 67.,  47.,  52.,   0.],\n",
       "       [ 54.,  47.,  59.,   0.],\n",
       "       [ 63.,  48.,  51.,   1.],\n",
       "       [ 18.,  48.,  59.,   1.],\n",
       "       [ 43.,  48.,  50.,   0.],\n",
       "       [ 68.,  48.,  48.,   0.],\n",
       "       [ 19.,  48.,  59.,   1.],\n",
       "       [ 32.,  48.,  47.,   0.],\n",
       "       [ 70.,  49.,  55.,   1.],\n",
       "       [ 47.,  49.,  42.,   0.],\n",
       "       [ 60.,  50.,  49.,   0.],\n",
       "       [ 60.,  50.,  56.,   0.],\n",
       "       [ 59.,  54.,  47.,   1.],\n",
       "       [ 26.,  54.,  54.,   1.],\n",
       "       [ 45.,  54.,  53.,   0.],\n",
       "       [ 40.,  54.,  48.,   1.],\n",
       "       [ 23.,  54.,  52.,   0.],\n",
       "       [ 49.,  54.,  42.,   0.],\n",
       "       [ 57.,  54.,  51.,   1.],\n",
       "       [ 38.,  54.,  55.,   1.],\n",
       "       [ 67.,  54.,  41.,   1.],\n",
       "       [ 46.,  54.,  44.,   0.],\n",
       "       [ 21.,  54.,  57.,   0.],\n",
       "       [ 48.,  54.,  46.,   1.],\n",
       "       [ 55.,  57.,  58.,   0.],\n",
       "       [ 22.,  57.,  55.,   0.],\n",
       "       [ 34.,  58.,  60.,   0.],\n",
       "       [ 50.,  58.,  46.,   0.],\n",
       "       [ 68.,  59.,  55.,   0.],\n",
       "       [ 18.,  59.,  41.,   1.],\n",
       "       [ 48.,  60.,  49.,   1.],\n",
       "       [ 40.,  60.,  40.,   0.],\n",
       "       [ 32.,  60.,  42.,   0.],\n",
       "       [ 24.,  60.,  52.,   1.],\n",
       "       [ 47.,  60.,  47.,   0.],\n",
       "       [ 27.,  60.,  50.,   0.],\n",
       "       [ 48.,  61.,  42.,   1.],\n",
       "       [ 20.,  61.,  49.,   1.],\n",
       "       [ 23.,  62.,  41.,   0.],\n",
       "       [ 49.,  62.,  48.,   0.],\n",
       "       [ 67.,  62.,  59.,   1.],\n",
       "       [ 26.,  62.,  55.,   1.],\n",
       "       [ 49.,  62.,  56.,   1.],\n",
       "       [ 21.,  62.,  42.,   0.],\n",
       "       [ 66.,  63.,  50.,   0.],\n",
       "       [ 54.,  63.,  46.,   1.],\n",
       "       [ 68.,  63.,  43.,   1.],\n",
       "       [ 66.,  63.,  48.,   1.],\n",
       "       [ 65.,  63.,  52.,   1.],\n",
       "       [ 19.,  63.,  54.,   0.],\n",
       "       [ 38.,  64.,  42.,   0.],\n",
       "       [ 19.,  64.,  46.,   1.],\n",
       "       [ 18.,  65.,  48.,   0.],\n",
       "       [ 19.,  65.,  50.,   0.],\n",
       "       [ 63.,  65.,  43.,   0.],\n",
       "       [ 49.,  65.,  59.,   0.],\n",
       "       [ 51.,  67.,  43.,   0.],\n",
       "       [ 50.,  67.,  57.,   0.],\n",
       "       [ 27.,  67.,  56.,   1.],\n",
       "       [ 38.,  67.,  40.,   0.],\n",
       "       [ 40.,  69.,  58.,   0.],\n",
       "       [ 39.,  69.,  91.,   1.],\n",
       "       [ 23.,  70.,  29.,   0.],\n",
       "       [ 31.,  70.,  77.,   0.],\n",
       "       [ 43.,  71.,  35.,   1.],\n",
       "       [ 40.,  71.,  95.,   1.],\n",
       "       [ 59.,  71.,  11.,   1.],\n",
       "       [ 38.,  71.,  75.,   1.],\n",
       "       [ 47.,  71.,   9.,   1.],\n",
       "       [ 39.,  71.,  75.,   1.],\n",
       "       [ 25.,  72.,  34.,   0.],\n",
       "       [ 31.,  72.,  71.,   0.],\n",
       "       [ 20.,  73.,   5.,   1.],\n",
       "       [ 29.,  73.,  88.,   0.],\n",
       "       [ 44.,  73.,   7.,   0.],\n",
       "       [ 32.,  73.,  73.,   1.],\n",
       "       [ 19.,  74.,  10.,   1.],\n",
       "       [ 35.,  74.,  72.,   0.],\n",
       "       [ 57.,  75.,   5.,   0.],\n",
       "       [ 32.,  75.,  93.,   1.],\n",
       "       [ 28.,  76.,  40.,   0.],\n",
       "       [ 32.,  76.,  87.,   0.],\n",
       "       [ 25.,  77.,  12.,   1.],\n",
       "       [ 28.,  77.,  97.,   1.],\n",
       "       [ 48.,  77.,  36.,   1.],\n",
       "       [ 32.,  77.,  74.,   0.],\n",
       "       [ 34.,  78.,  22.,   0.],\n",
       "       [ 34.,  78.,  90.,   1.],\n",
       "       [ 43.,  78.,  17.,   1.],\n",
       "       [ 39.,  78.,  88.,   1.],\n",
       "       [ 44.,  78.,  20.,   0.],\n",
       "       [ 38.,  78.,  76.,   0.],\n",
       "       [ 47.,  78.,  16.,   0.],\n",
       "       [ 27.,  78.,  89.,   0.],\n",
       "       [ 37.,  78.,   1.,   1.],\n",
       "       [ 30.,  78.,  78.,   0.],\n",
       "       [ 34.,  78.,   1.,   1.],\n",
       "       [ 30.,  78.,  73.,   0.],\n",
       "       [ 56.,  79.,  35.,   0.],\n",
       "       [ 29.,  79.,  83.,   0.],\n",
       "       [ 19.,  81.,   5.,   1.],\n",
       "       [ 31.,  81.,  93.,   0.],\n",
       "       [ 50.,  85.,  26.,   1.],\n",
       "       [ 36.,  85.,  75.,   0.],\n",
       "       [ 42.,  86.,  20.,   1.],\n",
       "       [ 33.,  86.,  95.,   0.],\n",
       "       [ 36.,  87.,  27.,   0.],\n",
       "       [ 32.,  87.,  63.,   1.],\n",
       "       [ 40.,  87.,  13.,   1.],\n",
       "       [ 28.,  87.,  75.,   1.],\n",
       "       [ 36.,  87.,  10.,   1.],\n",
       "       [ 36.,  87.,  92.,   1.],\n",
       "       [ 52.,  88.,  13.,   0.],\n",
       "       [ 30.,  88.,  86.,   0.],\n",
       "       [ 58.,  88.,  15.,   1.],\n",
       "       [ 27.,  88.,  69.,   1.],\n",
       "       [ 59.,  93.,  14.,   1.],\n",
       "       [ 35.,  93.,  90.,   1.],\n",
       "       [ 37.,  97.,  32.,   0.],\n",
       "       [ 32.,  97.,  86.,   0.],\n",
       "       [ 46.,  98.,  15.,   1.],\n",
       "       [ 29.,  98.,  88.,   0.],\n",
       "       [ 41.,  99.,  39.,   0.],\n",
       "       [ 30.,  99.,  97.,   1.],\n",
       "       [ 54., 101.,  24.,   0.],\n",
       "       [ 28., 101.,  68.,   1.],\n",
       "       [ 41., 103.,  17.,   0.],\n",
       "       [ 36., 103.,  85.,   0.],\n",
       "       [ 34., 103.,  23.,   0.],\n",
       "       [ 32., 103.,  69.,   0.],\n",
       "       [ 33., 113.,   8.,   1.],\n",
       "       [ 38., 113.,  91.,   0.],\n",
       "       [ 47., 120.,  16.,   0.],\n",
       "       [ 35., 120.,  79.,   0.],\n",
       "       [ 45., 126.,  28.,   0.],\n",
       "       [ 32., 126.,  74.,   1.],\n",
       "       [ 32., 137.,  18.,   1.],\n",
       "       [ 30., 137.,  83.,   1.]])"
      ]
     },
     "execution_count": 26,
     "metadata": {},
     "output_type": "execute_result"
    }
   ],
   "source": [
    "Array"
   ]
  },
  {
   "cell_type": "code",
   "execution_count": 27,
   "metadata": {},
   "outputs": [],
   "source": [
    "KM_Result = KMeans(n_clusters = 5).fit(Array)"
   ]
  },
  {
   "cell_type": "code",
   "execution_count": 28,
   "metadata": {},
   "outputs": [],
   "source": [
    "clusters = KM_Result.cluster_centers_"
   ]
  },
  {
   "cell_type": "code",
   "execution_count": 29,
   "metadata": {},
   "outputs": [
    {
     "data": {
      "text/plain": [
       "array([[45.2173913 , 26.30434783, 20.91304348,  0.39130435],\n",
       "       [43.08860759, 55.29113924, 49.56962025,  0.41772152],\n",
       "       [25.52173913, 26.30434783, 78.56521739,  0.39130435],\n",
       "       [32.69230769, 86.53846154, 82.12820513,  0.46153846],\n",
       "       [40.66666667, 87.75      , 17.58333333,  0.52777778]])"
      ]
     },
     "execution_count": 29,
     "metadata": {},
     "output_type": "execute_result"
    }
   ],
   "source": [
    "clusters"
   ]
  },
  {
   "cell_type": "code",
   "execution_count": 30,
   "metadata": {},
   "outputs": [
    {
     "data": {
      "text/plain": [
       "<matplotlib.collections.PathCollection at 0x2e9ff19a790>"
      ]
     },
     "execution_count": 30,
     "metadata": {},
     "output_type": "execute_result"
    },
    {
     "data": {
      "image/png": "[encoded data removed]",
      "text/plain": [
       "<Figure size 432x288 with 1 Axes>"
      ]
     },
     "metadata": {
      "needs_background": "light"
     },
     "output_type": "display_data"
    }
   ],
   "source": [
    "#Spending and Income\n",
    "plt.scatter(col2,col3,s=100)\n",
    "plt.scatter(clusters[:,1],clusters[:,2],s=1000)"
   ]
  },
  {
   "cell_type": "code",
   "execution_count": null,
   "metadata": {},
   "outputs": [],
   "source": []
  }
 ],
 "metadata": {
  "kernelspec": {
   "display_name": "Python 3",
   "language": "python",
   "name": "python3"
  },
  "language_info": {
   "codemirror_mode": {
    "name": "ipython",
    "version": 3
   },
   "file_extension": ".py",
   "mimetype": "text/x-python",
   "name": "python",
   "nbconvert_exporter": "python",
   "pygments_lexer": "ipython3",
   "version": "3.8.5"
  }
 },
 "nbformat": 4,
 "nbformat_minor": 2
}
